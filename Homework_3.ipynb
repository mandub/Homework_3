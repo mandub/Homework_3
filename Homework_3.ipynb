{
 "cells": [
  {
   "cell_type": "markdown",
   "metadata": {},
   "source": [
    "### 1b. Determining when the house is cheating. (20pts)\n",
    "Now that you know the cheating dealer's strategy, you decide that you want to catch the dealer in the act.  Play 1000 games of dice with the dealer, using the forward algorithm to determine when the dealer is cheating.  Recall that you now don't have access to the dealer's state, only the rolls!  Assume that the dealer starts using the fair die.  Report the probability that the dealer is using the loaded die at each of the 1000 rolls.\n",
    "\n",
    "HINT: In the notation of Murphy, you are looking for $P(z_t=j|\\mathbf{x}_{1:t})=\\alpha_t(j)$, where $z_t=j\\in\\{0,1\\}$ are the possible states and $\\mathbf{x}_{1:t}$ are all the die rolls up to the current time.  The two step formula for computing this quantity can be found in Murphy Eqs. 17.44-17.47.\n"
   ]
  },
  {
   "cell_type": "markdown",
   "metadata": {},
   "source": [
    "# Homework 3 (Due Oct. 11)"
   ]
  },
  {
   "cell_type": "markdown",
   "metadata": {},
   "source": [
    "## 1. The occasionally dishonest casino\n",
    "\n",
    "Imagine that you are employed by the Montana State Gaming Board, and you have received an anonymous tip suggesting that the dealer in the dice games that frequently occur at the Oxford is cheating.  In particular, the dealer is surreptitiously switching from a fair die to a loaded one (and back) with a certain probability.  In this game, the ante is a doller.  you choose a number, the dealer rolls the die, and if it matches you get back 3 times your ante.  Otherwise, you lose your ante.  \n",
    "\n",
    "You examine security camera footage from which you extracted the following dataset, with *states* describing whether the die was loaded, and rolls being the outcome of each die roll."
   ]
  },
  {
   "cell_type": "code",
   "execution_count": 1,
   "metadata": {},
   "outputs": [
    {
     "data": {
      "text/plain": [
       "<Figure size 640x480 with 1 Axes>"
      ]
     },
     "metadata": {},
     "output_type": "display_data"
    },
    {
     "name": "stdout",
     "output_type": "stream",
     "text": [
      "1000\n"
     ]
    }
   ],
   "source": [
    "import pickle\n",
    "import matplotlib\n",
    "import matplotlib.pyplot as plt\n",
    "\n",
    "states,rolls = pickle.load(open('oxford.p','rb'))\n",
    "plt.plot(states)\n",
    "plt.show()\n",
    "print (len(states))\n"
   ]
  },
  {
   "cell_type": "markdown",
   "metadata": {},
   "source": [
    "### 1a. Training a HMM (20pts)\n",
    "Assume that the dealer follows a Markov model\n",
    "$$\n",
    "P(S_{t+1}=s_k|S_t=s_j) = A_{jk}, s_j\\in\\{0,1\\},s_k\\in\\{0,1\\},\n",
    "$$\n",
    "where $s_j=0$ corresponds to use of the fair die, while $s_j=1$ means the die is loaded.  The outcome of the die roll follows a categorical distribution conditioned on which die was being used\n",
    "$$\n",
    "P(R_t=r|S_t=s_j) = E_{jr}, r_t\\in\\{0,1,2,3,4,5\\}.\n",
    "$$\n",
    "Note that for convenience, the dealer is using a six-sided, zero-indexed die.\n",
    "\n",
    "Train your model of the dealer's ruse by using your observations to find the maximum likelihood estimators for the transition matrix $A$ and the emission probabilities $E$.  \n",
    "\n",
    "HINT: because the states are observed, training $A$ is equivalent to training a normal Markov model.  Similarly, training $E$ is equivalant to training a Naive Bayes model, where the state is the class and the die roll is the feature."
   ]
  },
  {
   "cell_type": "code",
   "execution_count": 2,
   "metadata": {},
   "outputs": [
    {
     "name": "stdout",
     "output_type": "stream",
     "text": [
      "[[0.16623377 0.17792208 0.14155844 0.16883117 0.18701299 0.15844156]\n",
      " [0.0826087  0.06521739 0.12608696 0.09130435 0.11304348 0.52173913]]\n"
     ]
    }
   ],
   "source": [
    "import numpy as np\n",
    "m = len(states)\n",
    "\n",
    "A = np.zeros((2,2))\n",
    "E = np.zeros((2,6))\n",
    "#! Compute the parameters of the transition and emission matrices.\n",
    "lock = False \n",
    "counter = 0\n",
    "num_roll_0=0\n",
    "num_roll_1=0\n",
    "previous_state=states[0]\n",
    "for state , roll in zip(states,rolls):\n",
    "    E[state][roll] +=1\n",
    "    if counter > 0:\n",
    "        A[state] [previous_state] +=1\n",
    "    previous_state = state\n",
    "    counter +=1\n",
    "for row in E:\n",
    "    row /=row.sum()\n",
    "A /= A.sum(axis=1)[:,np.newaxis]\n",
    "print (E)\n"
   ]
  },
  {
   "cell_type": "code",
   "execution_count": 3,
   "metadata": {},
   "outputs": [
    {
     "name": "stdout",
     "output_type": "stream",
     "text": [
      "[[0.98959688 0.01040312]\n",
      " [0.03913043 0.96086957]]\n"
     ]
    }
   ],
   "source": [
    "print (A)"
   ]
  },
  {
   "cell_type": "code",
   "execution_count": 4,
   "metadata": {},
   "outputs": [],
   "source": [
    "def likelihood(roll,state):\n",
    "    return E[state,roll]\n",
    "\n",
    "def prediction(state):\n",
    "    return np.dot(state,A)\n",
    "\n",
    "possible_states = [0,1]\n",
    "possible_rolls = [0,1,2,3,4,5]\n",
    "\n",
    "alpha = [np.array([1.0,0.0])]\n",
    "current_state = 0\n",
    "current_roll = np.random.choice(possible_rolls,p=E[0])\n",
    "\n",
    "states = [current_state]\n",
    "rolls = [current_roll]\n",
    "\n",
    "for g in range(1000):\n",
    "        \n",
    "    ### This is the dealer's internal state, you can't use this information!\n",
    "    current_state = np.random.choice(possible_states,p=A[current_state])\n",
    "    states.append(current_state)\n",
    "    ###\n",
    "    \n",
    "    ### This is the dealer's emission, you *can* use this information\n",
    "    current_roll = np.random.choice(possible_rolls,p=E[current_state])\n",
    "    rolls.append(current_roll)\n",
    "    ###\n",
    "    \n",
    "    #! Implement the recursive forward algorithm to determine the probability \n",
    "    #! of being in the fair or loaded state for all rolls\n",
    "    last_S_Probability = alpha[g]\n",
    "    Predictions = prediction(last_S_Probability)  \n",
    "    like_hood = np.array(likelihood(current_roll,possible_states))\n",
    "    Possible_alpha = like_hood * Predictions\n",
    "    aloha_row =Possible_alpha / Possible_alpha.sum()\n",
    "    #print (aloha_row)\n",
    "    alpha.append(aloha_row)\n",
    "   "
   ]
  },
  {
   "cell_type": "code",
   "execution_count": 5,
   "metadata": {},
   "outputs": [
    {
     "name": "stdout",
     "output_type": "stream",
     "text": [
      "this model is correct in percentage =  90.31 %\n"
     ]
    }
   ],
   "source": [
    "def MyPrediction(alpha_):\n",
    "    Prediction_list = []\n",
    "    for i in alpha_ :\n",
    "        if i[0]> i[1]:\n",
    "            Prediction_list.append(0)\n",
    "        else:\n",
    "            Prediction_list.append(1)\n",
    "    return Prediction_list\n",
    "\n",
    "def ToString(s):\n",
    "    Mystring=''\n",
    "    for state in s:\n",
    "        if state == 0:\n",
    "            Mystring +='F'# when the casino play with fair die add 'F' to the string\n",
    "        else:\n",
    "            Mystring +='-'# when the casino play with loaded die add '-' to the string\n",
    "    return Mystring\n",
    "Prediction_list = MyPrediction(alpha)\n",
    "correct_prediction=0\n",
    "for i,m in enumerate(states):\n",
    "    if Prediction_list[i]== states[i]:\n",
    "        correct_prediction +=1\n",
    "percentage = (correct_prediction/ float (len (states))) * 100  \n",
    "print (\"this model is correct in percentage = \" , \"%.2f\" % percentage, \"%\")\n"
   ]
  },
  {
   "cell_type": "code",
   "execution_count": 6,
   "metadata": {},
   "outputs": [
    {
     "name": "stdout",
     "output_type": "stream",
     "text": [
      "actual states: FFFFFFFFFFFFFFFFFFFFFFFFFFFFFFFFFFFFFFFFFFFFFFFFFFFFFFFFFFFFFFFFFFFFFFFFFFFFFFFFFFFFFFFFF------FFFFF\n",
      "Prediction   : FFFFFFFF-FFFFFFFFFFFFFFFFFFFFFFFFFFFFFFFFFFFFFFFFFFFFFFFFFFFFFFFFFFFFFFFFFFFFFFFFFFFFFFFFFFFFF--FFFF\n",
      "___________________________________________________________________________________________________________________\n",
      "actual states: FFFFFFFFFFFFFFFFFFFFFFFFFFFFFFFFFFFFFFFFF---------------FFFFFFFFFFFFFFFFFFFFFFFFFFFFFFF----FFFFFFFFF\n",
      "Prediction   : FFFFFFFFFFFFFFFFFFFFFFFFFFFFFFFFFFFFFFFFF-FF-FF-F-F-----FFFFFFFFFFFFFFFFFFFFFFFFFFFFFFFFFF-FFFFFFFFF\n",
      "___________________________________________________________________________________________________________________\n",
      "actual states: FFFFFFFFFFFFFFFFFFFFFFFFFFFFFFFFFFFFFFFFFFFFFFFFFFFFFFFFFFFFFFFFFFFFFFFFFFFFFFFFFFFFFFFFFFFFFFFFFFFF\n",
      "Prediction   : FFFFFFFFFFFFFFFFFFFFFFFFFFFFFFFFFFFFFFFFFFFFFFFFFFFFFFFFFFFFFFFFF--FFFFFFFFFFFFFFFFFFFFFFFFFFFFFFF-F\n",
      "___________________________________________________________________________________________________________________\n",
      "actual states: FFFFFFFFFFFFFFFFFFFFFFFFFFFFFFFFF------FFFFFFFFFFFFFFFFFFFFFFFFFFFFFFFFFFFFFFFFFFFFFFFFFFFFFFFFF----\n",
      "Prediction   : FFFFFFFFFFFFFFFFFFFFFFFFFFFFFFFFFFFFFFFFFFFFFFFFFFFFFFFFFFFFFFFFFFFFFFFFFFFFFFFFF--FFFFFFFFFFFFFFFFF\n",
      "___________________________________________________________________________________________________________________\n",
      "actual states: ------------FFFFFFFFFFFFFFFFFFFFFFFFFFFFFFFFFFFFFFFFFFFFFFFFFFFFFFFFFFFFFFFFFFFFFFFFFFFFFFFFFFFFFFFF\n",
      "Prediction   : FFFFFFFFF-----F-----------FF-FFFFFFFFFFFFFFFFFFFFFFFFFFFFFFFFFFFFFFFFFFFFFFFFFFFFFFFFFFFFFFFFFFFFFFF\n",
      "___________________________________________________________________________________________________________________\n",
      "actual states: FFFFFFFFFFFFFFFFFFFFFFFFFFFFFFFFFFFFFFFFFFFFFFFFFFFFFFFFFFFFFFFFFFFFFFFFFFFFFFFFFF------------------\n",
      "Prediction   : FFFFFFFFFFFFFFFFFFFFFFFFFFFFFFFFFFFFFFFFFFFFFFFF-FFFFFFFFFFFFFFFFFFFFFFFFFFFFFFFFFFF-F-FFFFF-FFF----\n",
      "___________________________________________________________________________________________________________________\n",
      "actual states: ------------------------------FFFFFFFFFFFFFFFFFFFFFFFFFFFFFFFFFFFFFFFFFFFFFFFFFFFFFFFFFFFFFFFFFFFFFF\n",
      "Prediction   : F-F--FFF------FFF------F---------FF-FFFFFFFFFFFFFFFFFFFFFFFFFFFFFFFFFFFFFFFFFFFFFFFFFFFFFFFFFFFFFFFF\n",
      "___________________________________________________________________________________________________________________\n",
      "actual states: FFFFFFFFFFFFFFFFFFFFFFFFFFFFFFFFF-------FFFFFFFFFFFFFFFFFFFFFFFFFFFFFFFFFFFFFFFFFFFFFFFFFFFFFFFFFFFF\n",
      "Prediction   : FFFFFFFFFFFFFFFFFFFFFFFFFFFFFFFFFFFFF---FF-F-F-----FFFFFFFFFFFFFFFFFFFFFFFFFFFFFFFFFFFFFFFFFFFFFFFFF\n",
      "___________________________________________________________________________________________________________________\n",
      "actual states: FFFFFFFFFFFFFFFFFFFFFFFFFFFFFFFFFFFFFFFFFFFFFFFF----FFFFFFFFFFFFFFFFFFFFFFFFFFFFFFFFFFFFFFFFFFFFFFFF\n",
      "Prediction   : FFFFFFFFFFFFFFFFFFFFFFFFFFFFFFFFFFFFFFFFFFFFFFFFFFFFFFFFFFFFFFFFFFFFFFFFFFFFFFFFFFFFFFFFFFFFFFFFFFFF\n",
      "___________________________________________________________________________________________________________________\n",
      "actual states: FFFFFFFFFFFFFFFFFFFFFFFFFFFFFFFFFFFFFFFFFFFFFFFFFFFFFFFFFFFFFFFFFFFFFFFFFFFFFFFFFFFFFFFFFFFFFFFFFFFF\n",
      "Prediction   : FFFFFFFFFFFFFFFFFFFFFFFFFFFFF-FF-FFFFFFFFFFFFFFFFFFFFFFFFFFFFF-FFFFFFFFFFFFFFFFFFFFFFFFFFFFFFFFFFFFF\n",
      "___________________________________________________________________________________________________________________\n"
     ]
    }
   ],
   "source": [
    "# printing 2 strings for the actual states and predicted list where 'F' is playing fair and '-' otherwise\n",
    "s1= ToString(states)\n",
    "s2= ToString(Prediction_list)\n",
    "n=0\n",
    "for i in range (10):\n",
    "    print ('actual states:',s1[n:(n+100)])\n",
    "    print ('Prediction   :',s2[n:(n+100)])\n",
    "    print (\"___________________________________________________________________________________________________________________\")\n",
    "    n=n+100"
   ]
  },
  {
   "cell_type": "markdown",
   "metadata": {},
   "source": [
    "### 1C (\\*). Beating the house (10pts)\n",
    "Describe a strategy for beating the house given all the information determined from the above two problems.  Show that your strategy will, in general, make money after 1000 rolls, either by mathematical proof, or by direct simulation. "
   ]
  },
  {
   "cell_type": "code",
   "execution_count": 7,
   "metadata": {},
   "outputs": [],
   "source": [
    "# functions\n",
    "# this function return true win I when an flase if I lose\n",
    "def Game(Roll, bet):\n",
    "    if Roll == bet:\n",
    "        return True\n",
    "    else:\n",
    "        return False\n",
    "# this function return the Last state string \n",
    "def Laststate(F,L):\n",
    "    if F > L:\n",
    "        return 'Fair'\n",
    "    else:\n",
    "        return 'Loaded'"
   ]
  },
  {
   "cell_type": "code",
   "execution_count": 18,
   "metadata": {},
   "outputs": [
    {
     "name": "stdout",
     "output_type": "stream",
     "text": [
      "After applying my strategic for 100 times which is raise the bet 10$ on number 5 \n",
      "if I feel that last role was by the loaded die the winning time was :  58\n"
     ]
    }
   ],
   "source": [
    "#This function to call it for 100 times\n",
    "def loopfor100():\n",
    "    \n",
    "    # One of the simplest approaches is to put more money when dealer use loaded dice \n",
    "    #  and choose the number that has the high percentage.\n",
    "    # let assume I will paly for 1000 roll\n",
    "\n",
    "    #And I have 1000$ for it as minimum bet for each roll is 1$\n",
    "    # If I win, I take 3 times what I bet on. Or lose my bet\n",
    "    Mymoney = 1000\n",
    "    #but I can put 10$ more when I feel dialer is using loaded dice\n",
    "    mybet = 1   # some times I will but it 10\n",
    "    alpha = [np.array([1.0,0.0])]\n",
    "    current_state = 0\n",
    "\n",
    "\n",
    "    # before the first roll let's play fair and guess equally\n",
    "    Myguesses= [np.random.choice(possible_rolls,p=E[0])]\n",
    "    current_roll = np.random.choice(possible_rolls,p=E[0])\n",
    "\n",
    "    # game start for the first roll\n",
    "    Mymoney -=mybet\n",
    "    if Game(current_roll,Myguesses[0]):\n",
    "        Mymoney += (mybet * 3)\n",
    "\n",
    "    states = [current_state]\n",
    "    rolls = [current_roll]\n",
    "    last_state = 'Fair'\n",
    "    for g in range(1000):\n",
    "        # here I assume that if it fair or loaded dice, he is more likely will use it again this time\n",
    "        last_state = Laststate(alpha[g][0],alpha[g][1])\n",
    "        # so I will build my guess on the last state he was in and raise my bet\n",
    "        if last_state == 'Fair':\n",
    "            Myguess = np.random.choice(possible_rolls,p=E[0])\n",
    "            mybet = 1\n",
    "        else:\n",
    "            Myguess = 5 #np.random.choice(possible_rolls,p=E[1])\n",
    "            mybet = 10\n",
    "        Myguesses.append(Myguess)\n",
    "        Mymoney -= mybet\n",
    "\n",
    "        ### This is the dealer's internal state, you can't use this information!\n",
    "        current_state = np.random.choice(possible_states,p=A[current_state])\n",
    "        states.append(current_state)\n",
    "        ###\n",
    "\n",
    "        ### This is the dealer's emission, you *can* use this information\n",
    "        current_roll = np.random.choice(possible_rolls,p=E[current_state])\n",
    "        rolls.append(current_roll)\n",
    "        ###\n",
    "\n",
    "        if Game(current_roll,Myguess):\n",
    "            Mymoney += (mybet * 3)\n",
    "\n",
    "        #! Implement the recursive forward algorithm to determine the probability \n",
    "        #! of being in the fair or loaded state for all rolls\n",
    "        last_S_Probability = alpha[g]\n",
    "        Predictions = prediction(last_S_Probability)  \n",
    "        like_hood = np.array(likelihood(current_roll,possible_states))\n",
    "        Possible_alpha = like_hood * Predictions\n",
    "        aloha_row =Possible_alpha / Possible_alpha.sum()\n",
    "        #print (aloha_row)\n",
    "        alpha.append(aloha_row)\n",
    "    myconter = 0\n",
    "    for i,j in zip(rolls,Myguesses):\n",
    "        if i == j:\n",
    "            myconter +=1\n",
    "    #print (myconter )\n",
    "    #print (Mymoney)\n",
    "    if Mymoney > 1000:\n",
    "        return True\n",
    "    else:\n",
    "        return False\n",
    "winning = 0 # holed number of winning \n",
    "\n",
    "for i in range(100):\n",
    "    if loopfor100():\n",
    "       winning +=1\n",
    "print (\"After applying my strategic for 100 times which is raise the bet 10$ on number 5 \")\n",
    "print (\"if I feel that last role was by the loaded die the winning time was : \", winning)\n"
   ]
  },
  {
   "cell_type": "code",
   "execution_count": null,
   "metadata": {},
   "outputs": [],
   "source": [
    "\n"
   ]
  },
  {
   "cell_type": "code",
   "execution_count": null,
   "metadata": {},
   "outputs": [],
   "source": []
  },
  {
   "cell_type": "markdown",
   "metadata": {},
   "source": []
  },
  {
   "cell_type": "code",
   "execution_count": null,
   "metadata": {},
   "outputs": [],
   "source": []
  },
  {
   "cell_type": "code",
   "execution_count": null,
   "metadata": {},
   "outputs": [],
   "source": []
  },
  {
   "cell_type": "markdown",
   "metadata": {},
   "source": []
  },
  {
   "cell_type": "code",
   "execution_count": null,
   "metadata": {},
   "outputs": [],
   "source": []
  },
  {
   "cell_type": "code",
   "execution_count": null,
   "metadata": {},
   "outputs": [],
   "source": []
  }
 ],
 "metadata": {
  "kernelspec": {
   "display_name": "Python 3",
   "language": "python",
   "name": "python3"
  },
  "language_info": {
   "codemirror_mode": {
    "name": "ipython",
    "version": 3
   },
   "file_extension": ".py",
   "mimetype": "text/x-python",
   "name": "python",
   "nbconvert_exporter": "python",
   "pygments_lexer": "ipython3",
   "version": "3.6.5"
  }
 },
 "nbformat": 4,
 "nbformat_minor": 2
}
